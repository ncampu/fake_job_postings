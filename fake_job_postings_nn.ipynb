{
 "cells": [
  {
   "cell_type": "markdown",
   "id": "a26728b2",
   "metadata": {},
   "source": [
    "## Problem Statement"
   ]
  },
  {
   "cell_type": "markdown",
   "id": "aaee66c8",
   "metadata": {},
   "source": [
    "This dataset contains 18K job descriptions out of which about 800 are fake. The data consists of both textual information and meta-information about the jobs. The dataset can be used to create classification models which can learn the job descriptions which are fraudulent."
   ]
  },
  {
   "cell_type": "markdown",
   "id": "c598d788",
   "metadata": {},
   "source": [
    "## Dataset Attributes\n",
    "This file contains the dataset of job descriptions and their meta information. A small proportion of these descriptions are fake or scam which can be identified by the column \"fraudulent\".\n",
    "1. job_id - Unique Job ID\n",
    "2. title - The title of the job ad entry\n",
    "3. location - Geographical location of the job ad\n",
    "4. department - Corporate department (e.g. sales)\n",
    "5. salary_range - Indicative salary range in USD (e.g. 50,000-60,000)\n",
    "6. company_profile - A brief company description\n",
    "7. description - The details description of the job ad\n",
    "8. requirements - Enlisted requirements for the job opening\n",
    "9. benefits - Enlisted offered benefits by the employe\n",
    "10. telecommuting - True for telecommuting positions\n",
    "11. has_company_logo - True if company logo is present\n",
    "12. has_questions - True if screening questions are presen\n",
    "13. employment_type - Full-type, Part-time, Contract, etc.\n",
    "14. required_experience - Executive, Entry level, Intern, etc.\n",
    "15. required_education - Doctorate, Master’s Degree, Bachelor, etc.\n",
    "16. industry - Automotive, IT, Health care, Real estate, etc.\n",
    "17. function - Consulting, Engineering, Research, Sales etc.\n",
    "18. fraudulent - target - Classification attribute (1=Fraudulent)"
   ]
  },
  {
   "cell_type": "markdown",
   "id": "f39c25f9",
   "metadata": {},
   "source": [
    "**Libraries Used**"
   ]
  },
  {
   "cell_type": "code",
   "execution_count": 1,
   "id": "30294625",
   "metadata": {
    "scrolled": true
   },
   "outputs": [
    {
     "name": "stderr",
     "output_type": "stream",
     "text": [
      "[nltk_data] Downloading package stopwords to\n",
      "[nltk_data]     C:\\Users\\Nico\\AppData\\Roaming\\nltk_data...\n",
      "[nltk_data]   Package stopwords is already up-to-date!\n"
     ]
    }
   ],
   "source": [
    "import numpy as np\n",
    "import pandas as pd\n",
    "import matplotlib.pyplot as plt\n",
    "%matplotlib inline\n",
    "import seaborn as sns\n",
    "import string\n",
    "import nltk\n",
    "nltk.download('stopwords')\n",
    "from nltk.corpus import stopwords\n",
    "from nltk.stem import WordNetLemmatizer\n",
    "from sklearn.model_selection import train_test_split\n",
    "from imblearn.pipeline import Pipeline\n",
    "from imblearn.over_sampling import SMOTE\n",
    "from imblearn.under_sampling import RandomUnderSampler\n",
    "from sklearn.feature_extraction.text import TfidfVectorizer\n",
    "from sklearn.feature_extraction.text import TfidfTransformer\n",
    "from sklearn.preprocessing import LabelEncoder\n",
    "from tensorflow.keras.models import Sequential\n",
    "from tensorflow.keras.layers import Dense, Dropout\n",
    "from tensorflow.keras.callbacks import EarlyStopping\n",
    "from sklearn.metrics import classification_report, confusion_matrix"
   ]
  },
  {
   "cell_type": "code",
   "execution_count": 2,
   "id": "62a5f4c0",
   "metadata": {},
   "outputs": [],
   "source": [
    "df = pd.read_csv('fake_job_postings.csv')"
   ]
  },
  {
   "cell_type": "markdown",
   "id": "99650318",
   "metadata": {},
   "source": [
    "## Exploratory Data Analysis"
   ]
  },
  {
   "cell_type": "code",
   "execution_count": 3,
   "id": "2a225e9c",
   "metadata": {},
   "outputs": [
    {
     "name": "stdout",
     "output_type": "stream",
     "text": [
      "<class 'pandas.core.frame.DataFrame'>\n",
      "RangeIndex: 17880 entries, 0 to 17879\n",
      "Data columns (total 18 columns):\n",
      " #   Column               Non-Null Count  Dtype \n",
      "---  ------               --------------  ----- \n",
      " 0   job_id               17880 non-null  int64 \n",
      " 1   title                17880 non-null  object\n",
      " 2   location             17534 non-null  object\n",
      " 3   department           6333 non-null   object\n",
      " 4   salary_range         2868 non-null   object\n",
      " 5   company_profile      14572 non-null  object\n",
      " 6   description          17879 non-null  object\n",
      " 7   requirements         15185 non-null  object\n",
      " 8   benefits             10670 non-null  object\n",
      " 9   telecommuting        17880 non-null  int64 \n",
      " 10  has_company_logo     17880 non-null  int64 \n",
      " 11  has_questions        17880 non-null  int64 \n",
      " 12  employment_type      14409 non-null  object\n",
      " 13  required_experience  10830 non-null  object\n",
      " 14  required_education   9775 non-null   object\n",
      " 15  industry             12977 non-null  object\n",
      " 16  function             11425 non-null  object\n",
      " 17  fraudulent           17880 non-null  int64 \n",
      "dtypes: int64(5), object(13)\n",
      "memory usage: 2.5+ MB\n"
     ]
    }
   ],
   "source": [
    "df.info()"
   ]
  },
  {
   "cell_type": "code",
   "execution_count": 4,
   "id": "ffa93a7a",
   "metadata": {},
   "outputs": [
    {
     "data": {
      "text/plain": [
       "(17880, 18)"
      ]
     },
     "execution_count": 4,
     "metadata": {},
     "output_type": "execute_result"
    }
   ],
   "source": [
    "df.shape"
   ]
  },
  {
   "cell_type": "code",
   "execution_count": 5,
   "id": "f16b1423",
   "metadata": {},
   "outputs": [
    {
     "data": {
      "text/html": [
       "<div>\n",
       "<style scoped>\n",
       "    .dataframe tbody tr th:only-of-type {\n",
       "        vertical-align: middle;\n",
       "    }\n",
       "\n",
       "    .dataframe tbody tr th {\n",
       "        vertical-align: top;\n",
       "    }\n",
       "\n",
       "    .dataframe thead th {\n",
       "        text-align: right;\n",
       "    }\n",
       "</style>\n",
       "<table border=\"1\" class=\"dataframe\">\n",
       "  <thead>\n",
       "    <tr style=\"text-align: right;\">\n",
       "      <th></th>\n",
       "      <th>job_id</th>\n",
       "      <th>title</th>\n",
       "      <th>location</th>\n",
       "      <th>department</th>\n",
       "      <th>salary_range</th>\n",
       "      <th>company_profile</th>\n",
       "      <th>description</th>\n",
       "      <th>requirements</th>\n",
       "      <th>benefits</th>\n",
       "      <th>telecommuting</th>\n",
       "      <th>has_company_logo</th>\n",
       "      <th>has_questions</th>\n",
       "      <th>employment_type</th>\n",
       "      <th>required_experience</th>\n",
       "      <th>required_education</th>\n",
       "      <th>industry</th>\n",
       "      <th>function</th>\n",
       "      <th>fraudulent</th>\n",
       "    </tr>\n",
       "  </thead>\n",
       "  <tbody>\n",
       "    <tr>\n",
       "      <th>0</th>\n",
       "      <td>1</td>\n",
       "      <td>Marketing Intern</td>\n",
       "      <td>US, NY, New York</td>\n",
       "      <td>Marketing</td>\n",
       "      <td>NaN</td>\n",
       "      <td>We're Food52, and we've created a groundbreaki...</td>\n",
       "      <td>Food52, a fast-growing, James Beard Award-winn...</td>\n",
       "      <td>Experience with content management systems a m...</td>\n",
       "      <td>NaN</td>\n",
       "      <td>0</td>\n",
       "      <td>1</td>\n",
       "      <td>0</td>\n",
       "      <td>Other</td>\n",
       "      <td>Internship</td>\n",
       "      <td>NaN</td>\n",
       "      <td>NaN</td>\n",
       "      <td>Marketing</td>\n",
       "      <td>0</td>\n",
       "    </tr>\n",
       "    <tr>\n",
       "      <th>1</th>\n",
       "      <td>2</td>\n",
       "      <td>Customer Service - Cloud Video Production</td>\n",
       "      <td>NZ, , Auckland</td>\n",
       "      <td>Success</td>\n",
       "      <td>NaN</td>\n",
       "      <td>90 Seconds, the worlds Cloud Video Production ...</td>\n",
       "      <td>Organised - Focused - Vibrant - Awesome!Do you...</td>\n",
       "      <td>What we expect from you:Your key responsibilit...</td>\n",
       "      <td>What you will get from usThrough being part of...</td>\n",
       "      <td>0</td>\n",
       "      <td>1</td>\n",
       "      <td>0</td>\n",
       "      <td>Full-time</td>\n",
       "      <td>Not Applicable</td>\n",
       "      <td>NaN</td>\n",
       "      <td>Marketing and Advertising</td>\n",
       "      <td>Customer Service</td>\n",
       "      <td>0</td>\n",
       "    </tr>\n",
       "    <tr>\n",
       "      <th>2</th>\n",
       "      <td>3</td>\n",
       "      <td>Commissioning Machinery Assistant (CMA)</td>\n",
       "      <td>US, IA, Wever</td>\n",
       "      <td>NaN</td>\n",
       "      <td>NaN</td>\n",
       "      <td>Valor Services provides Workforce Solutions th...</td>\n",
       "      <td>Our client, located in Houston, is actively se...</td>\n",
       "      <td>Implement pre-commissioning and commissioning ...</td>\n",
       "      <td>NaN</td>\n",
       "      <td>0</td>\n",
       "      <td>1</td>\n",
       "      <td>0</td>\n",
       "      <td>NaN</td>\n",
       "      <td>NaN</td>\n",
       "      <td>NaN</td>\n",
       "      <td>NaN</td>\n",
       "      <td>NaN</td>\n",
       "      <td>0</td>\n",
       "    </tr>\n",
       "    <tr>\n",
       "      <th>3</th>\n",
       "      <td>4</td>\n",
       "      <td>Account Executive - Washington DC</td>\n",
       "      <td>US, DC, Washington</td>\n",
       "      <td>Sales</td>\n",
       "      <td>NaN</td>\n",
       "      <td>Our passion for improving quality of life thro...</td>\n",
       "      <td>THE COMPANY: ESRI – Environmental Systems Rese...</td>\n",
       "      <td>EDUCATION: Bachelor’s or Master’s in GIS, busi...</td>\n",
       "      <td>Our culture is anything but corporate—we have ...</td>\n",
       "      <td>0</td>\n",
       "      <td>1</td>\n",
       "      <td>0</td>\n",
       "      <td>Full-time</td>\n",
       "      <td>Mid-Senior level</td>\n",
       "      <td>Bachelor's Degree</td>\n",
       "      <td>Computer Software</td>\n",
       "      <td>Sales</td>\n",
       "      <td>0</td>\n",
       "    </tr>\n",
       "    <tr>\n",
       "      <th>4</th>\n",
       "      <td>5</td>\n",
       "      <td>Bill Review Manager</td>\n",
       "      <td>US, FL, Fort Worth</td>\n",
       "      <td>NaN</td>\n",
       "      <td>NaN</td>\n",
       "      <td>SpotSource Solutions LLC is a Global Human Cap...</td>\n",
       "      <td>JOB TITLE: Itemization Review ManagerLOCATION:...</td>\n",
       "      <td>QUALIFICATIONS:RN license in the State of Texa...</td>\n",
       "      <td>Full Benefits Offered</td>\n",
       "      <td>0</td>\n",
       "      <td>1</td>\n",
       "      <td>1</td>\n",
       "      <td>Full-time</td>\n",
       "      <td>Mid-Senior level</td>\n",
       "      <td>Bachelor's Degree</td>\n",
       "      <td>Hospital &amp; Health Care</td>\n",
       "      <td>Health Care Provider</td>\n",
       "      <td>0</td>\n",
       "    </tr>\n",
       "  </tbody>\n",
       "</table>\n",
       "</div>"
      ],
      "text/plain": [
       "   job_id                                      title            location  \\\n",
       "0       1                           Marketing Intern    US, NY, New York   \n",
       "1       2  Customer Service - Cloud Video Production      NZ, , Auckland   \n",
       "2       3    Commissioning Machinery Assistant (CMA)       US, IA, Wever   \n",
       "3       4          Account Executive - Washington DC  US, DC, Washington   \n",
       "4       5                        Bill Review Manager  US, FL, Fort Worth   \n",
       "\n",
       "  department salary_range                                    company_profile  \\\n",
       "0  Marketing          NaN  We're Food52, and we've created a groundbreaki...   \n",
       "1    Success          NaN  90 Seconds, the worlds Cloud Video Production ...   \n",
       "2        NaN          NaN  Valor Services provides Workforce Solutions th...   \n",
       "3      Sales          NaN  Our passion for improving quality of life thro...   \n",
       "4        NaN          NaN  SpotSource Solutions LLC is a Global Human Cap...   \n",
       "\n",
       "                                         description  \\\n",
       "0  Food52, a fast-growing, James Beard Award-winn...   \n",
       "1  Organised - Focused - Vibrant - Awesome!Do you...   \n",
       "2  Our client, located in Houston, is actively se...   \n",
       "3  THE COMPANY: ESRI – Environmental Systems Rese...   \n",
       "4  JOB TITLE: Itemization Review ManagerLOCATION:...   \n",
       "\n",
       "                                        requirements  \\\n",
       "0  Experience with content management systems a m...   \n",
       "1  What we expect from you:Your key responsibilit...   \n",
       "2  Implement pre-commissioning and commissioning ...   \n",
       "3  EDUCATION: Bachelor’s or Master’s in GIS, busi...   \n",
       "4  QUALIFICATIONS:RN license in the State of Texa...   \n",
       "\n",
       "                                            benefits  telecommuting  \\\n",
       "0                                                NaN              0   \n",
       "1  What you will get from usThrough being part of...              0   \n",
       "2                                                NaN              0   \n",
       "3  Our culture is anything but corporate—we have ...              0   \n",
       "4                              Full Benefits Offered              0   \n",
       "\n",
       "   has_company_logo  has_questions employment_type required_experience  \\\n",
       "0                 1              0           Other          Internship   \n",
       "1                 1              0       Full-time      Not Applicable   \n",
       "2                 1              0             NaN                 NaN   \n",
       "3                 1              0       Full-time    Mid-Senior level   \n",
       "4                 1              1       Full-time    Mid-Senior level   \n",
       "\n",
       "  required_education                   industry              function  \\\n",
       "0                NaN                        NaN             Marketing   \n",
       "1                NaN  Marketing and Advertising      Customer Service   \n",
       "2                NaN                        NaN                   NaN   \n",
       "3  Bachelor's Degree          Computer Software                 Sales   \n",
       "4  Bachelor's Degree     Hospital & Health Care  Health Care Provider   \n",
       "\n",
       "   fraudulent  \n",
       "0           0  \n",
       "1           0  \n",
       "2           0  \n",
       "3           0  \n",
       "4           0  "
      ]
     },
     "execution_count": 5,
     "metadata": {},
     "output_type": "execute_result"
    }
   ],
   "source": [
    "df.head()"
   ]
  },
  {
   "cell_type": "code",
   "execution_count": 6,
   "id": "e66b67a9",
   "metadata": {},
   "outputs": [
    {
     "data": {
      "text/html": [
       "<div>\n",
       "<style scoped>\n",
       "    .dataframe tbody tr th:only-of-type {\n",
       "        vertical-align: middle;\n",
       "    }\n",
       "\n",
       "    .dataframe tbody tr th {\n",
       "        vertical-align: top;\n",
       "    }\n",
       "\n",
       "    .dataframe thead th {\n",
       "        text-align: right;\n",
       "    }\n",
       "</style>\n",
       "<table border=\"1\" class=\"dataframe\">\n",
       "  <thead>\n",
       "    <tr style=\"text-align: right;\">\n",
       "      <th></th>\n",
       "      <th>job_id</th>\n",
       "      <th>title</th>\n",
       "      <th>location</th>\n",
       "      <th>department</th>\n",
       "      <th>salary_range</th>\n",
       "      <th>company_profile</th>\n",
       "      <th>description</th>\n",
       "      <th>requirements</th>\n",
       "      <th>benefits</th>\n",
       "      <th>telecommuting</th>\n",
       "      <th>has_company_logo</th>\n",
       "      <th>has_questions</th>\n",
       "      <th>employment_type</th>\n",
       "      <th>required_experience</th>\n",
       "      <th>required_education</th>\n",
       "      <th>industry</th>\n",
       "      <th>function</th>\n",
       "      <th>fraudulent</th>\n",
       "    </tr>\n",
       "  </thead>\n",
       "  <tbody>\n",
       "    <tr>\n",
       "      <th>98</th>\n",
       "      <td>99</td>\n",
       "      <td>IC&amp;E Technician</td>\n",
       "      <td>US, , Stocton, CA</td>\n",
       "      <td>Oil &amp; Energy</td>\n",
       "      <td>95000-115000</td>\n",
       "      <td>...</td>\n",
       "      <td>IC&amp;amp;E Technician | Bakersfield, CA Mt. Poso...</td>\n",
       "      <td>QualificationsKnowledge, Skills &amp;amp; Abilitie...</td>\n",
       "      <td>BENEFITSWhat is offered:Competitive compensati...</td>\n",
       "      <td>0</td>\n",
       "      <td>1</td>\n",
       "      <td>1</td>\n",
       "      <td>Full-time</td>\n",
       "      <td>Mid-Senior level</td>\n",
       "      <td>High School or equivalent</td>\n",
       "      <td>Oil &amp; Energy</td>\n",
       "      <td>Other</td>\n",
       "      <td>1</td>\n",
       "    </tr>\n",
       "    <tr>\n",
       "      <th>144</th>\n",
       "      <td>145</td>\n",
       "      <td>Forward Cap.</td>\n",
       "      <td>NaN</td>\n",
       "      <td>NaN</td>\n",
       "      <td>NaN</td>\n",
       "      <td>NaN</td>\n",
       "      <td>The group has raised a fund for the purchase o...</td>\n",
       "      <td>NaN</td>\n",
       "      <td>NaN</td>\n",
       "      <td>0</td>\n",
       "      <td>0</td>\n",
       "      <td>0</td>\n",
       "      <td>NaN</td>\n",
       "      <td>NaN</td>\n",
       "      <td>NaN</td>\n",
       "      <td>NaN</td>\n",
       "      <td>NaN</td>\n",
       "      <td>1</td>\n",
       "    </tr>\n",
       "    <tr>\n",
       "      <th>173</th>\n",
       "      <td>174</td>\n",
       "      <td>Technician Instrument &amp; Controls</td>\n",
       "      <td>US</td>\n",
       "      <td>Power Plant &amp; Energy</td>\n",
       "      <td>NaN</td>\n",
       "      <td>Edison International and Refined Resources hav...</td>\n",
       "      <td>Technician Instrument &amp;amp; ControlsLocation D...</td>\n",
       "      <td>JOB QUALIFICATIONS-Ability to understand proce...</td>\n",
       "      <td>we are a team of almost 8,000 employees who he...</td>\n",
       "      <td>0</td>\n",
       "      <td>1</td>\n",
       "      <td>1</td>\n",
       "      <td>Full-time</td>\n",
       "      <td>Mid-Senior level</td>\n",
       "      <td>Certification</td>\n",
       "      <td>Electrical/Electronic Manufacturing</td>\n",
       "      <td>Other</td>\n",
       "      <td>1</td>\n",
       "    </tr>\n",
       "    <tr>\n",
       "      <th>180</th>\n",
       "      <td>181</td>\n",
       "      <td>Sales Executive</td>\n",
       "      <td>PK, SD, Karachi</td>\n",
       "      <td>Sales</td>\n",
       "      <td>NaN</td>\n",
       "      <td>NaN</td>\n",
       "      <td>Sales Executive</td>\n",
       "      <td>Sales Executive</td>\n",
       "      <td>Sales Executive</td>\n",
       "      <td>0</td>\n",
       "      <td>0</td>\n",
       "      <td>0</td>\n",
       "      <td>NaN</td>\n",
       "      <td>NaN</td>\n",
       "      <td>NaN</td>\n",
       "      <td>NaN</td>\n",
       "      <td>Sales</td>\n",
       "      <td>1</td>\n",
       "    </tr>\n",
       "    <tr>\n",
       "      <th>215</th>\n",
       "      <td>216</td>\n",
       "      <td>IC&amp;E Technician Mt Poso</td>\n",
       "      <td>US, CA, Bakersfield, CA / Mt. Poso</td>\n",
       "      <td>Oil &amp; Energy</td>\n",
       "      <td>95000-115000</td>\n",
       "      <td>...</td>\n",
       "      <td>IC&amp;amp;E Technician | Bakersfield, CA Mt. Poso...</td>\n",
       "      <td>QualificationsKnowledge, Skills &amp;amp; Abiliti...</td>\n",
       "      <td>BENEFITSWhat is offered:Competitive compensati...</td>\n",
       "      <td>0</td>\n",
       "      <td>1</td>\n",
       "      <td>1</td>\n",
       "      <td>Full-time</td>\n",
       "      <td>Mid-Senior level</td>\n",
       "      <td>High School or equivalent</td>\n",
       "      <td>Oil &amp; Energy</td>\n",
       "      <td>Other</td>\n",
       "      <td>1</td>\n",
       "    </tr>\n",
       "    <tr>\n",
       "      <th>...</th>\n",
       "      <td>...</td>\n",
       "      <td>...</td>\n",
       "      <td>...</td>\n",
       "      <td>...</td>\n",
       "      <td>...</td>\n",
       "      <td>...</td>\n",
       "      <td>...</td>\n",
       "      <td>...</td>\n",
       "      <td>...</td>\n",
       "      <td>...</td>\n",
       "      <td>...</td>\n",
       "      <td>...</td>\n",
       "      <td>...</td>\n",
       "      <td>...</td>\n",
       "      <td>...</td>\n",
       "      <td>...</td>\n",
       "      <td>...</td>\n",
       "      <td>...</td>\n",
       "    </tr>\n",
       "    <tr>\n",
       "      <th>17827</th>\n",
       "      <td>17828</td>\n",
       "      <td>Student Positions Part-Time and Full-Time.</td>\n",
       "      <td>US, CA, Los Angeles</td>\n",
       "      <td>NaN</td>\n",
       "      <td>NaN</td>\n",
       "      <td>NaN</td>\n",
       "      <td>Student Positions Part-Time and Full-Time.You ...</td>\n",
       "      <td>NaN</td>\n",
       "      <td>NaN</td>\n",
       "      <td>0</td>\n",
       "      <td>0</td>\n",
       "      <td>0</td>\n",
       "      <td>Part-time</td>\n",
       "      <td>NaN</td>\n",
       "      <td>NaN</td>\n",
       "      <td>NaN</td>\n",
       "      <td>NaN</td>\n",
       "      <td>1</td>\n",
       "    </tr>\n",
       "    <tr>\n",
       "      <th>17828</th>\n",
       "      <td>17829</td>\n",
       "      <td>Sales Associate</td>\n",
       "      <td>AU, NSW, Sydney</td>\n",
       "      <td>Sales and Marketing</td>\n",
       "      <td>NaN</td>\n",
       "      <td>NaN</td>\n",
       "      <td>LEARN TO EARN AN EXECUTIVE LEVEL INCOMEFULL TR...</td>\n",
       "      <td>What You Can Do. • Have the potential to earn ...</td>\n",
       "      <td>Who We Are We are a Global Leadership Developm...</td>\n",
       "      <td>0</td>\n",
       "      <td>0</td>\n",
       "      <td>1</td>\n",
       "      <td>NaN</td>\n",
       "      <td>NaN</td>\n",
       "      <td>NaN</td>\n",
       "      <td>NaN</td>\n",
       "      <td>NaN</td>\n",
       "      <td>1</td>\n",
       "    </tr>\n",
       "    <tr>\n",
       "      <th>17829</th>\n",
       "      <td>17830</td>\n",
       "      <td>Android Developer</td>\n",
       "      <td>PL, MZ, Warsaw</td>\n",
       "      <td>NaN</td>\n",
       "      <td>NaN</td>\n",
       "      <td>NaN</td>\n",
       "      <td>inFullMobile Sp. z o.o. is a mobile software d...</td>\n",
       "      <td>• A proven track record in Android / JAVA proj...</td>\n",
       "      <td>attractive salary (adequate to the candidate s...</td>\n",
       "      <td>0</td>\n",
       "      <td>0</td>\n",
       "      <td>0</td>\n",
       "      <td>NaN</td>\n",
       "      <td>NaN</td>\n",
       "      <td>NaN</td>\n",
       "      <td>NaN</td>\n",
       "      <td>NaN</td>\n",
       "      <td>1</td>\n",
       "    </tr>\n",
       "    <tr>\n",
       "      <th>17830</th>\n",
       "      <td>17831</td>\n",
       "      <td>Payroll Clerk</td>\n",
       "      <td>US, NY, New York</td>\n",
       "      <td>NaN</td>\n",
       "      <td>NaN</td>\n",
       "      <td>NaN</td>\n",
       "      <td>JOB DESCRIPTIONWe are seeking a full time payr...</td>\n",
       "      <td>JOB REQUIREMENTS•    High school diploma or eq...</td>\n",
       "      <td>We offer a competitive salary and benefits pac...</td>\n",
       "      <td>0</td>\n",
       "      <td>0</td>\n",
       "      <td>0</td>\n",
       "      <td>Full-time</td>\n",
       "      <td>NaN</td>\n",
       "      <td>NaN</td>\n",
       "      <td>Apparel &amp; Fashion</td>\n",
       "      <td>Accounting/Auditing</td>\n",
       "      <td>1</td>\n",
       "    </tr>\n",
       "    <tr>\n",
       "      <th>17831</th>\n",
       "      <td>17832</td>\n",
       "      <td>Furniture mover</td>\n",
       "      <td>US, IL, Chicago</td>\n",
       "      <td>NaN</td>\n",
       "      <td>NaN</td>\n",
       "      <td>Anthony Warren is a Marketing and Advertising ...</td>\n",
       "      <td>earn $500 to $1000 a week as a mover.  Must ha...</td>\n",
       "      <td>Good liftflexibile schedulegeat attitude</td>\n",
       "      <td>NaN</td>\n",
       "      <td>0</td>\n",
       "      <td>1</td>\n",
       "      <td>0</td>\n",
       "      <td>NaN</td>\n",
       "      <td>NaN</td>\n",
       "      <td>NaN</td>\n",
       "      <td>NaN</td>\n",
       "      <td>NaN</td>\n",
       "      <td>1</td>\n",
       "    </tr>\n",
       "  </tbody>\n",
       "</table>\n",
       "<p>866 rows × 18 columns</p>\n",
       "</div>"
      ],
      "text/plain": [
       "       job_id                                       title  \\\n",
       "98         99                             IC&E Technician   \n",
       "144       145                                Forward Cap.   \n",
       "173       174           Technician Instrument & Controls    \n",
       "180       181                             Sales Executive   \n",
       "215       216                     IC&E Technician Mt Poso   \n",
       "...       ...                                         ...   \n",
       "17827   17828  Student Positions Part-Time and Full-Time.   \n",
       "17828   17829                             Sales Associate   \n",
       "17829   17830                           Android Developer   \n",
       "17830   17831                              Payroll Clerk    \n",
       "17831   17832                             Furniture mover   \n",
       "\n",
       "                                 location            department  salary_range  \\\n",
       "98                      US, , Stocton, CA          Oil & Energy  95000-115000   \n",
       "144                                   NaN                   NaN           NaN   \n",
       "173                                    US  Power Plant & Energy           NaN   \n",
       "180                       PK, SD, Karachi                 Sales           NaN   \n",
       "215    US, CA, Bakersfield, CA / Mt. Poso          Oil & Energy  95000-115000   \n",
       "...                                   ...                   ...           ...   \n",
       "17827                 US, CA, Los Angeles                   NaN           NaN   \n",
       "17828                     AU, NSW, Sydney   Sales and Marketing           NaN   \n",
       "17829                      PL, MZ, Warsaw                   NaN           NaN   \n",
       "17830                    US, NY, New York                   NaN           NaN   \n",
       "17831                     US, IL, Chicago                   NaN           NaN   \n",
       "\n",
       "                                         company_profile  \\\n",
       "98                                                   ...   \n",
       "144                                                  NaN   \n",
       "173    Edison International and Refined Resources hav...   \n",
       "180                                                  NaN   \n",
       "215                                                  ...   \n",
       "...                                                  ...   \n",
       "17827                                                NaN   \n",
       "17828                                                NaN   \n",
       "17829                                                NaN   \n",
       "17830                                                NaN   \n",
       "17831  Anthony Warren is a Marketing and Advertising ...   \n",
       "\n",
       "                                             description  \\\n",
       "98     IC&amp;E Technician | Bakersfield, CA Mt. Poso...   \n",
       "144    The group has raised a fund for the purchase o...   \n",
       "173    Technician Instrument &amp; ControlsLocation D...   \n",
       "180                                      Sales Executive   \n",
       "215    IC&amp;E Technician | Bakersfield, CA Mt. Poso...   \n",
       "...                                                  ...   \n",
       "17827  Student Positions Part-Time and Full-Time.You ...   \n",
       "17828  LEARN TO EARN AN EXECUTIVE LEVEL INCOMEFULL TR...   \n",
       "17829  inFullMobile Sp. z o.o. is a mobile software d...   \n",
       "17830  JOB DESCRIPTIONWe are seeking a full time payr...   \n",
       "17831  earn $500 to $1000 a week as a mover.  Must ha...   \n",
       "\n",
       "                                            requirements  \\\n",
       "98     QualificationsKnowledge, Skills &amp; Abilitie...   \n",
       "144                                                  NaN   \n",
       "173    JOB QUALIFICATIONS-Ability to understand proce...   \n",
       "180                                      Sales Executive   \n",
       "215     QualificationsKnowledge, Skills &amp; Abiliti...   \n",
       "...                                                  ...   \n",
       "17827                                                NaN   \n",
       "17828  What You Can Do. • Have the potential to earn ...   \n",
       "17829  • A proven track record in Android / JAVA proj...   \n",
       "17830  JOB REQUIREMENTS•    High school diploma or eq...   \n",
       "17831           Good liftflexibile schedulegeat attitude   \n",
       "\n",
       "                                                benefits  telecommuting  \\\n",
       "98     BENEFITSWhat is offered:Competitive compensati...              0   \n",
       "144                                                  NaN              0   \n",
       "173    we are a team of almost 8,000 employees who he...              0   \n",
       "180                                      Sales Executive              0   \n",
       "215    BENEFITSWhat is offered:Competitive compensati...              0   \n",
       "...                                                  ...            ...   \n",
       "17827                                                NaN              0   \n",
       "17828  Who We Are We are a Global Leadership Developm...              0   \n",
       "17829  attractive salary (adequate to the candidate s...              0   \n",
       "17830  We offer a competitive salary and benefits pac...              0   \n",
       "17831                                                NaN              0   \n",
       "\n",
       "       has_company_logo  has_questions employment_type required_experience  \\\n",
       "98                    1              1       Full-time    Mid-Senior level   \n",
       "144                   0              0             NaN                 NaN   \n",
       "173                   1              1       Full-time    Mid-Senior level   \n",
       "180                   0              0             NaN                 NaN   \n",
       "215                   1              1       Full-time    Mid-Senior level   \n",
       "...                 ...            ...             ...                 ...   \n",
       "17827                 0              0       Part-time                 NaN   \n",
       "17828                 0              1             NaN                 NaN   \n",
       "17829                 0              0             NaN                 NaN   \n",
       "17830                 0              0       Full-time                 NaN   \n",
       "17831                 1              0             NaN                 NaN   \n",
       "\n",
       "              required_education                             industry  \\\n",
       "98     High School or equivalent                         Oil & Energy   \n",
       "144                          NaN                                  NaN   \n",
       "173                Certification  Electrical/Electronic Manufacturing   \n",
       "180                          NaN                                  NaN   \n",
       "215    High School or equivalent                         Oil & Energy   \n",
       "...                          ...                                  ...   \n",
       "17827                        NaN                                  NaN   \n",
       "17828                        NaN                                  NaN   \n",
       "17829                        NaN                                  NaN   \n",
       "17830                        NaN                    Apparel & Fashion   \n",
       "17831                        NaN                                  NaN   \n",
       "\n",
       "                  function  fraudulent  \n",
       "98                   Other           1  \n",
       "144                    NaN           1  \n",
       "173                  Other           1  \n",
       "180                  Sales           1  \n",
       "215                  Other           1  \n",
       "...                    ...         ...  \n",
       "17827                  NaN           1  \n",
       "17828                  NaN           1  \n",
       "17829                  NaN           1  \n",
       "17830  Accounting/Auditing           1  \n",
       "17831                  NaN           1  \n",
       "\n",
       "[866 rows x 18 columns]"
      ]
     },
     "execution_count": 6,
     "metadata": {},
     "output_type": "execute_result"
    }
   ],
   "source": [
    "# All fraudulent job listings\n",
    "df[df['fraudulent']==1]"
   ]
  },
  {
   "cell_type": "code",
   "execution_count": 7,
   "id": "6f211b4c",
   "metadata": {},
   "outputs": [
    {
     "data": {
      "text/plain": [
       "job_id                     0\n",
       "title                      0\n",
       "location                 346\n",
       "department             11547\n",
       "salary_range           15012\n",
       "company_profile         3308\n",
       "description                1\n",
       "requirements            2695\n",
       "benefits                7210\n",
       "telecommuting              0\n",
       "has_company_logo           0\n",
       "has_questions              0\n",
       "employment_type         3471\n",
       "required_experience     7050\n",
       "required_education      8105\n",
       "industry                4903\n",
       "function                6455\n",
       "fraudulent                 0\n",
       "dtype: int64"
      ]
     },
     "execution_count": 7,
     "metadata": {},
     "output_type": "execute_result"
    }
   ],
   "source": [
    "# Number of null values in dataset\n",
    "df.isna().sum()"
   ]
  },
  {
   "cell_type": "markdown",
   "id": "86e76a2b",
   "metadata": {},
   "source": [
    "To predict whether a listing is fraudulent or not, I need to choose the variables that have a combination of the least null values yet the most text. Therefore, I will choose only the 'description' column as my independent variable."
   ]
  },
  {
   "cell_type": "code",
   "execution_count": 8,
   "id": "5f7c2696",
   "metadata": {},
   "outputs": [
    {
     "data": {
      "text/html": [
       "<div>\n",
       "<style scoped>\n",
       "    .dataframe tbody tr th:only-of-type {\n",
       "        vertical-align: middle;\n",
       "    }\n",
       "\n",
       "    .dataframe tbody tr th {\n",
       "        vertical-align: top;\n",
       "    }\n",
       "\n",
       "    .dataframe thead th {\n",
       "        text-align: right;\n",
       "    }\n",
       "</style>\n",
       "<table border=\"1\" class=\"dataframe\">\n",
       "  <thead>\n",
       "    <tr style=\"text-align: right;\">\n",
       "      <th></th>\n",
       "      <th>description</th>\n",
       "      <th>fraudulent</th>\n",
       "    </tr>\n",
       "  </thead>\n",
       "  <tbody>\n",
       "    <tr>\n",
       "      <th>0</th>\n",
       "      <td>Food52, a fast-growing, James Beard Award-winn...</td>\n",
       "      <td>0</td>\n",
       "    </tr>\n",
       "    <tr>\n",
       "      <th>1</th>\n",
       "      <td>Organised - Focused - Vibrant - Awesome!Do you...</td>\n",
       "      <td>0</td>\n",
       "    </tr>\n",
       "    <tr>\n",
       "      <th>2</th>\n",
       "      <td>Our client, located in Houston, is actively se...</td>\n",
       "      <td>0</td>\n",
       "    </tr>\n",
       "    <tr>\n",
       "      <th>3</th>\n",
       "      <td>THE COMPANY: ESRI – Environmental Systems Rese...</td>\n",
       "      <td>0</td>\n",
       "    </tr>\n",
       "    <tr>\n",
       "      <th>4</th>\n",
       "      <td>JOB TITLE: Itemization Review ManagerLOCATION:...</td>\n",
       "      <td>0</td>\n",
       "    </tr>\n",
       "  </tbody>\n",
       "</table>\n",
       "</div>"
      ],
      "text/plain": [
       "                                         description  fraudulent\n",
       "0  Food52, a fast-growing, James Beard Award-winn...           0\n",
       "1  Organised - Focused - Vibrant - Awesome!Do you...           0\n",
       "2  Our client, located in Houston, is actively se...           0\n",
       "3  THE COMPANY: ESRI – Environmental Systems Rese...           0\n",
       "4  JOB TITLE: Itemization Review ManagerLOCATION:...           0"
      ]
     },
     "execution_count": 8,
     "metadata": {},
     "output_type": "execute_result"
    }
   ],
   "source": [
    "df = df[['description','fraudulent']]\n",
    "df.head()"
   ]
  },
  {
   "cell_type": "code",
   "execution_count": 9,
   "id": "ece977ac",
   "metadata": {},
   "outputs": [],
   "source": [
    "df = df.dropna()"
   ]
  },
  {
   "cell_type": "markdown",
   "id": "3db25e55",
   "metadata": {},
   "source": [
    "## Text Cleaning"
   ]
  },
  {
   "cell_type": "code",
   "execution_count": 10,
   "id": "2d8e9c34",
   "metadata": {},
   "outputs": [
    {
     "data": {
      "text/plain": [
       "['i',\n",
       " 'me',\n",
       " 'my',\n",
       " 'myself',\n",
       " 'we',\n",
       " 'our',\n",
       " 'ours',\n",
       " 'ourselves',\n",
       " 'you',\n",
       " \"you're\",\n",
       " \"you've\",\n",
       " \"you'll\",\n",
       " \"you'd\",\n",
       " 'your',\n",
       " 'yours',\n",
       " 'yourself',\n",
       " 'yourselves',\n",
       " 'he',\n",
       " 'him',\n",
       " 'his',\n",
       " 'himself',\n",
       " 'she',\n",
       " \"she's\",\n",
       " 'her',\n",
       " 'hers',\n",
       " 'herself',\n",
       " 'it',\n",
       " \"it's\",\n",
       " 'its',\n",
       " 'itself',\n",
       " 'they',\n",
       " 'them',\n",
       " 'their',\n",
       " 'theirs',\n",
       " 'themselves',\n",
       " 'what',\n",
       " 'which',\n",
       " 'who',\n",
       " 'whom',\n",
       " 'this',\n",
       " 'that',\n",
       " \"that'll\",\n",
       " 'these',\n",
       " 'those',\n",
       " 'am',\n",
       " 'is',\n",
       " 'are',\n",
       " 'was',\n",
       " 'were',\n",
       " 'be',\n",
       " 'been',\n",
       " 'being',\n",
       " 'have',\n",
       " 'has',\n",
       " 'had',\n",
       " 'having',\n",
       " 'do',\n",
       " 'does',\n",
       " 'did',\n",
       " 'doing',\n",
       " 'a',\n",
       " 'an',\n",
       " 'the',\n",
       " 'and',\n",
       " 'but',\n",
       " 'if',\n",
       " 'or',\n",
       " 'because',\n",
       " 'as',\n",
       " 'until',\n",
       " 'while',\n",
       " 'of',\n",
       " 'at',\n",
       " 'by',\n",
       " 'for',\n",
       " 'with',\n",
       " 'about',\n",
       " 'against',\n",
       " 'between',\n",
       " 'into',\n",
       " 'through',\n",
       " 'during',\n",
       " 'before',\n",
       " 'after',\n",
       " 'above',\n",
       " 'below',\n",
       " 'to',\n",
       " 'from',\n",
       " 'up',\n",
       " 'down',\n",
       " 'in',\n",
       " 'out',\n",
       " 'on',\n",
       " 'off',\n",
       " 'over',\n",
       " 'under',\n",
       " 'again',\n",
       " 'further',\n",
       " 'then',\n",
       " 'once',\n",
       " 'here',\n",
       " 'there',\n",
       " 'when',\n",
       " 'where',\n",
       " 'why',\n",
       " 'how',\n",
       " 'all',\n",
       " 'any',\n",
       " 'both',\n",
       " 'each',\n",
       " 'few',\n",
       " 'more',\n",
       " 'most',\n",
       " 'other',\n",
       " 'some',\n",
       " 'such',\n",
       " 'no',\n",
       " 'nor',\n",
       " 'not',\n",
       " 'only',\n",
       " 'own',\n",
       " 'same',\n",
       " 'so',\n",
       " 'than',\n",
       " 'too',\n",
       " 'very',\n",
       " 's',\n",
       " 't',\n",
       " 'can',\n",
       " 'will',\n",
       " 'just',\n",
       " 'don',\n",
       " \"don't\",\n",
       " 'should',\n",
       " \"should've\",\n",
       " 'now',\n",
       " 'd',\n",
       " 'll',\n",
       " 'm',\n",
       " 'o',\n",
       " 're',\n",
       " 've',\n",
       " 'y',\n",
       " 'ain',\n",
       " 'aren',\n",
       " \"aren't\",\n",
       " 'couldn',\n",
       " \"couldn't\",\n",
       " 'didn',\n",
       " \"didn't\",\n",
       " 'doesn',\n",
       " \"doesn't\",\n",
       " 'hadn',\n",
       " \"hadn't\",\n",
       " 'hasn',\n",
       " \"hasn't\",\n",
       " 'haven',\n",
       " \"haven't\",\n",
       " 'isn',\n",
       " \"isn't\",\n",
       " 'ma',\n",
       " 'mightn',\n",
       " \"mightn't\",\n",
       " 'mustn',\n",
       " \"mustn't\",\n",
       " 'needn',\n",
       " \"needn't\",\n",
       " 'shan',\n",
       " \"shan't\",\n",
       " 'shouldn',\n",
       " \"shouldn't\",\n",
       " 'wasn',\n",
       " \"wasn't\",\n",
       " 'weren',\n",
       " \"weren't\",\n",
       " 'won',\n",
       " \"won't\",\n",
       " 'wouldn',\n",
       " \"wouldn't\"]"
      ]
     },
     "execution_count": 10,
     "metadata": {},
     "output_type": "execute_result"
    }
   ],
   "source": [
    "# All English stopwords\n",
    "stopwords.words('english')"
   ]
  },
  {
   "attachments": {
    "lemma.png": {
     "image/png": "[encoded data removed]"
    }
   },
   "cell_type": "markdown",
   "id": "8a1e3714",
   "metadata": {},
   "source": [
    "Cleaning our text is very important for creating an accurate model. To clean our text, we will:\n",
    "\n",
    "* Remove stopwords, which are basically words in a language that do not give much information on their own (Check the list above for examples)\n",
    "\n",
    "* Remove punctuation, which does not give information on its own\n",
    "\n",
    "* Convert text to lowercase to reduce word variability (Cat $\\neq$ cat)\n",
    "\n",
    "* Lemmatize words to reduce word variability. I have provided a diagram of the lemmatization process below:\n",
    "\n",
    "![lemma.png](attachment:lemma.png)"
   ]
  },
  {
   "cell_type": "code",
   "execution_count": 11,
   "id": "4b606936",
   "metadata": {},
   "outputs": [],
   "source": [
    "lemmatizer = WordNetLemmatizer()\n",
    "punctuation = list(string.punctuation)\n",
    "stop = set(stopwords.words('english') + punctuation)\n",
    "stop.update(punctuation)\n",
    "\n",
    "def text_cleaner(messy):\n",
    "    clean_text = []\n",
    "    for word in messy.split():\n",
    "        if word.lower() not in stop:\n",
    "            lem = lemmatizer.lemmatize(word)\n",
    "            clean_text.append(lem.lower())\n",
    "    return \" \".join(clean_text)"
   ]
  },
  {
   "cell_type": "code",
   "execution_count": 12,
   "id": "8f14ab75",
   "metadata": {},
   "outputs": [],
   "source": [
    "# Applying text-cleaning function to 'description' column\n",
    "df['description'] = df['description'].apply(text_cleaner)"
   ]
  },
  {
   "cell_type": "markdown",
   "id": "1d12cb70",
   "metadata": {},
   "source": [
    "## Data Vectorization with TF-IDF"
   ]
  },
  {
   "attachments": {
    "tfidf.png": {
     "image/png": "[encoded data removed]"
    }
   },
   "cell_type": "markdown",
   "id": "220ac99b",
   "metadata": {},
   "source": [
    "All machine learning models are some kind of mathematical model that need numbers to work with, so we will convert our text to numerical values. We will be using Term Frequency Inverse Document Frequency (TFIDF) Vectorizer to convert and sum all words per review to a numerical value. Then, we will use TF-IDF to assign a weight to each word per review. \n",
    "\n",
    "An example of this process has been given below.\n",
    "\n",
    "![tfidf.png](attachment:tfidf.png)"
   ]
  },
  {
   "cell_type": "code",
   "execution_count": 13,
   "id": "41ea6632",
   "metadata": {},
   "outputs": [],
   "source": [
    "# Max number of unique words = 5,000\n",
    "text_bag = TfidfVectorizer(max_features=5000,ngram_range=(2,2)).fit_transform(df['description'])"
   ]
  },
  {
   "cell_type": "code",
   "execution_count": 14,
   "id": "c819f245",
   "metadata": {},
   "outputs": [],
   "source": [
    "text_bag_transform = TfidfTransformer().fit_transform(text_bag)\n",
    "X = text_bag_transform.toarray()"
   ]
  },
  {
   "cell_type": "code",
   "execution_count": 15,
   "id": "14267133",
   "metadata": {},
   "outputs": [],
   "source": [
    "LE = LabelEncoder()\n",
    "y = LE.fit_transform(df['fraudulent'])\n",
    "y = np.asarray(y).astype('float32').reshape((-1,1))"
   ]
  },
  {
   "cell_type": "code",
   "execution_count": 16,
   "id": "bf25607f",
   "metadata": {},
   "outputs": [
    {
     "name": "stdout",
     "output_type": "stream",
     "text": [
      "(17879, 5000)\n",
      "(17879, 1)\n"
     ]
    }
   ],
   "source": [
    "print(X.shape)\n",
    "print(y.shape)"
   ]
  },
  {
   "cell_type": "markdown",
   "id": "187ffd08",
   "metadata": {},
   "source": [
    "## Handling Target Imbalance with SMOTE"
   ]
  },
  {
   "cell_type": "code",
   "execution_count": 17,
   "id": "f22626a3",
   "metadata": {},
   "outputs": [
    {
     "data": {
      "text/plain": [
       "Text(0.5, 1.0, 'Fraudulent Vs. Nonfraudulent Count')"
      ]
     },
     "execution_count": 17,
     "metadata": {},
     "output_type": "execute_result"
    },
    {
     "data": {
      "image/png": "[encoded data removed]",
      "text/plain": [
       "<Figure size 576x432 with 1 Axes>"
      ]
     },
     "metadata": {
      "needs_background": "light"
     },
     "output_type": "display_data"
    }
   ],
   "source": [
    "plt.figure(figsize=(8,6))\n",
    "sns.set_style('darkgrid')\n",
    "sns.countplot(x='fraudulent',data=df)\n",
    "plt.xlabel('Fraudulent',fontsize=14)\n",
    "plt.ylabel('Count',fontsize=14)\n",
    "plt.title('Fraudulent Vs. Nonfraudulent Count', fontsize=16)"
   ]
  },
  {
   "cell_type": "code",
   "execution_count": 18,
   "id": "00eb8375",
   "metadata": {
    "scrolled": true
   },
   "outputs": [
    {
     "data": {
      "text/plain": [
       "0    17014\n",
       "1      865\n",
       "Name: fraudulent, dtype: int64"
      ]
     },
     "execution_count": 18,
     "metadata": {},
     "output_type": "execute_result"
    }
   ],
   "source": [
    "df['fraudulent'].value_counts()"
   ]
  },
  {
   "cell_type": "markdown",
   "id": "f1c5f014",
   "metadata": {},
   "source": [
    "There are 17,014 fraudulent listings, but only 865 fraudulent listings. In a classification models, severely imbalanced classes like this usually leads to poor model performance. Therefore, I will be creating synthetic data that is relatively close and plausible to the minority (fraudulent) class such that there are 17,014 nonfraudulent as well as 17,014 fraudulents listings in the dataset. This allows for the model to learn more and become more accurate when predicting the neutral and negative ratings."
   ]
  },
  {
   "cell_type": "code",
   "execution_count": 19,
   "id": "c7b8f0c0",
   "metadata": {},
   "outputs": [],
   "source": [
    "oversampling_smote = SMOTE(sampling_strategy={1:17014})\n",
    "undersampling = RandomUnderSampler(sampling_strategy={0:17014})\n",
    "pipeline = Pipeline([('under', undersampling), ('smote', oversampling_smote)])\n",
    "df_train_resampled = pipeline.fit_resample(X, y)\n",
    "X_smote = df_train_resampled[0] # Resampled X\n",
    "y_smote = df_train_resampled[1] # Resample y"
   ]
  },
  {
   "cell_type": "code",
   "execution_count": 20,
   "id": "b6188d85",
   "metadata": {},
   "outputs": [
    {
     "name": "stdout",
     "output_type": "stream",
     "text": [
      "(34028, 5000)\n",
      "(34028,)\n"
     ]
    }
   ],
   "source": [
    "print(X_smote.shape)\n",
    "print(y_smote.shape)"
   ]
  },
  {
   "cell_type": "markdown",
   "id": "ce0be293",
   "metadata": {},
   "source": [
    "## Train Test Split"
   ]
  },
  {
   "cell_type": "code",
   "execution_count": 21,
   "id": "aa454045",
   "metadata": {},
   "outputs": [],
   "source": [
    "X_train, X_test, y_train, y_test = train_test_split(X_smote, y_smote, test_size=0.3, random_state=101)"
   ]
  },
  {
   "cell_type": "markdown",
   "id": "a177f622",
   "metadata": {},
   "source": [
    "## Creating Deep Neural Network"
   ]
  },
  {
   "cell_type": "code",
   "execution_count": 22,
   "id": "b4ff905f",
   "metadata": {},
   "outputs": [],
   "source": [
    "model = Sequential()\n",
    "model.add(Dense(64,input_shape=(X_smote.shape),activation='relu'))\n",
    "model.add(Dropout(0.3))\n",
    "model.add(Dense(32,activation='relu'))\n",
    "model.add(Dropout(0.3))\n",
    "model.add(Dense(16,activation='relu'))\n",
    "model.add(Dropout(0.3))\n",
    "model.add(Dense(8,activation='relu'))\n",
    "model.add(Dropout(0.3))\n",
    "model.add(Dense(4,activation='relu'))\n",
    "model.add(Dropout(0.3))\n",
    "model.add(Dense(1,activation='sigmoid'))\n",
    "model.compile(loss='binary_crossentropy',optimizer='adam',metrics=['accuracy'])"
   ]
  },
  {
   "cell_type": "code",
   "execution_count": 23,
   "id": "df96bcbd",
   "metadata": {},
   "outputs": [],
   "source": [
    "# Creating an Early Stop parameter to avoid model overfitting\n",
    "early_stop = EarlyStopping(monitor='val_loss',mode='min',verbose=3,patience = 5)"
   ]
  },
  {
   "cell_type": "code",
   "execution_count": 24,
   "id": "7f41e9db",
   "metadata": {},
   "outputs": [
    {
     "name": "stdout",
     "output_type": "stream",
     "text": [
      "Epoch 1/25\n",
      "WARNING:tensorflow:Model was constructed with shape (None, 34028, 5000) for input KerasTensor(type_spec=TensorSpec(shape=(None, 34028, 5000), dtype=tf.float32, name='dense_input'), name='dense_input', description=\"created by layer 'dense_input'\"), but it was called on an input with incompatible shape (None, 5000).\n",
      "WARNING:tensorflow:Model was constructed with shape (None, 34028, 5000) for input KerasTensor(type_spec=TensorSpec(shape=(None, 34028, 5000), dtype=tf.float32, name='dense_input'), name='dense_input', description=\"created by layer 'dense_input'\"), but it was called on an input with incompatible shape (None, 5000).\n",
      "177/187 [===========================>..] - ETA: 0s - loss: 0.5075 - accuracy: 0.7254WARNING:tensorflow:Model was constructed with shape (None, 34028, 5000) for input KerasTensor(type_spec=TensorSpec(shape=(None, 34028, 5000), dtype=tf.float32, name='dense_input'), name='dense_input', description=\"created by layer 'dense_input'\"), but it was called on an input with incompatible shape (None, 5000).\n",
      "187/187 [==============================] - 1s 3ms/step - loss: 0.4974 - accuracy: 0.7324 - val_loss: 0.0827 - val_accuracy: 0.9922\n",
      "Epoch 2/25\n",
      "187/187 [==============================] - 0s 3ms/step - loss: 0.2217 - accuracy: 0.9287 - val_loss: 0.0263 - val_accuracy: 0.9922\n",
      "Epoch 3/25\n",
      "187/187 [==============================] - 0s 3ms/step - loss: 0.1594 - accuracy: 0.9638 - val_loss: 0.0080 - val_accuracy: 1.0000\n",
      "Epoch 4/25\n",
      "187/187 [==============================] - 0s 3ms/step - loss: 0.1392 - accuracy: 0.9702 - val_loss: 0.0131 - val_accuracy: 1.0000\n",
      "Epoch 5/25\n",
      "187/187 [==============================] - 0s 2ms/step - loss: 0.1245 - accuracy: 0.9700 - val_loss: 0.0076 - val_accuracy: 1.0000\n",
      "Epoch 6/25\n",
      "187/187 [==============================] - 0s 3ms/step - loss: 0.1118 - accuracy: 0.9731 - val_loss: 0.0097 - val_accuracy: 1.0000\n",
      "Epoch 7/25\n",
      "187/187 [==============================] - 0s 2ms/step - loss: 0.1079 - accuracy: 0.9707 - val_loss: 0.0080 - val_accuracy: 1.0000\n",
      "Epoch 8/25\n",
      "187/187 [==============================] - 0s 2ms/step - loss: 0.1015 - accuracy: 0.9709 - val_loss: 0.0055 - val_accuracy: 1.0000\n",
      "Epoch 9/25\n",
      "187/187 [==============================] - 0s 2ms/step - loss: 0.0938 - accuracy: 0.9732 - val_loss: 0.0117 - val_accuracy: 1.0000\n",
      "Epoch 10/25\n",
      "187/187 [==============================] - 0s 3ms/step - loss: 0.0970 - accuracy: 0.9700 - val_loss: 0.0180 - val_accuracy: 1.0000\n",
      "Epoch 11/25\n",
      "187/187 [==============================] - 0s 3ms/step - loss: 0.0882 - accuracy: 0.9740 - val_loss: 0.0050 - val_accuracy: 1.0000\n",
      "Epoch 12/25\n",
      "187/187 [==============================] - 0s 2ms/step - loss: 0.0874 - accuracy: 0.9723 - val_loss: 0.0107 - val_accuracy: 1.0000\n",
      "Epoch 13/25\n",
      "187/187 [==============================] - 0s 2ms/step - loss: 0.0870 - accuracy: 0.9709 - val_loss: 0.0096 - val_accuracy: 1.0000\n",
      "Epoch 14/25\n",
      "187/187 [==============================] - 0s 3ms/step - loss: 0.0862 - accuracy: 0.9709 - val_loss: 0.0074 - val_accuracy: 1.0000\n",
      "Epoch 15/25\n",
      "187/187 [==============================] - 0s 3ms/step - loss: 0.0829 - accuracy: 0.9723 - val_loss: 0.0233 - val_accuracy: 1.0000\n",
      "Epoch 16/25\n",
      "187/187 [==============================] - 0s 2ms/step - loss: 0.0831 - accuracy: 0.9711 - val_loss: 0.0099 - val_accuracy: 1.0000\n",
      "Epoch 00016: early stopping\n"
     ]
    },
    {
     "data": {
      "text/plain": [
       "<keras.callbacks.History at 0x222bd725490>"
      ]
     },
     "execution_count": 24,
     "metadata": {},
     "output_type": "execute_result"
    }
   ],
   "source": [
    "model.fit(x=X_train,\n",
    "          y=y_train,\n",
    "          batch_size=128,\n",
    "          epochs=25,\n",
    "          callbacks=[early_stop],\n",
    "          validation_data=(X_test,y_test),\n",
    "          validation_steps=1)"
   ]
  },
  {
   "cell_type": "code",
   "execution_count": 25,
   "id": "e5bcef8c",
   "metadata": {},
   "outputs": [],
   "source": [
    "model_loss = pd.DataFrame(model.history.history)"
   ]
  },
  {
   "cell_type": "code",
   "execution_count": 26,
   "id": "c94a25fb",
   "metadata": {},
   "outputs": [
    {
     "data": {
      "text/plain": [
       "<AxesSubplot:>"
      ]
     },
     "execution_count": 26,
     "metadata": {},
     "output_type": "execute_result"
    },
    {
     "data": {
      "image/png": "[encoded data removed]",
      "text/plain": [
       "<Figure size 432x288 with 1 Axes>"
      ]
     },
     "metadata": {},
     "output_type": "display_data"
    }
   ],
   "source": [
    "model_loss.plot()"
   ]
  },
  {
   "cell_type": "markdown",
   "id": "1af18a8a",
   "metadata": {},
   "source": [
    "This shows that early stopping was triggered so that validation loss was minimized. Our model has been trained beautifully. Our training loss and validation loss quickly went down while training accuracy quickly increased."
   ]
  },
  {
   "cell_type": "code",
   "execution_count": 27,
   "id": "eb48924a",
   "metadata": {
    "scrolled": true
   },
   "outputs": [
    {
     "name": "stdout",
     "output_type": "stream",
     "text": [
      "WARNING:tensorflow:Model was constructed with shape (None, 34028, 5000) for input KerasTensor(type_spec=TensorSpec(shape=(None, 34028, 5000), dtype=tf.float32, name='dense_input'), name='dense_input', description=\"created by layer 'dense_input'\"), but it was called on an input with incompatible shape (None, 5000).\n",
      "              precision    recall  f1-score   support\n",
      "\n",
      "         0.0       1.00      0.97      0.98      5100\n",
      "         1.0       0.97      1.00      0.98      5109\n",
      "\n",
      "    accuracy                           0.98     10209\n",
      "   macro avg       0.98      0.98      0.98     10209\n",
      "weighted avg       0.98      0.98      0.98     10209\n",
      "\n"
     ]
    }
   ],
   "source": [
    "# Making predictions with the test data subset and checking model accuracy\n",
    "from sklearn.metrics import classification_report, confusion_matrix\n",
    "\n",
    "predictions = (model.predict(X_test) > 0.5).astype('int32')\n",
    "\n",
    "print(classification_report(y_test,predictions))"
   ]
  },
  {
   "cell_type": "markdown",
   "id": "79768950",
   "metadata": {},
   "source": [
    "## Conclusion"
   ]
  },
  {
   "cell_type": "markdown",
   "id": "24e3a5b6",
   "metadata": {},
   "source": [
    "With this model, we were able to achieve:\n",
    "\n",
    "* 98% f1-score when identifying fraudulent job listings\n",
    "* 98% overall accuracy\n",
    "\n",
    "By cleaning our text, converting & vectorizing it to numerical values using TF-IDF, and finally rebalancing it using SMOTE, our neural network has proven to be very accurate at identifying fraudulent job listings. This model would be useful for website moderators to quickly remove phony job listings and to foster a clean, positive environment for people who are looking for a new job.\n",
    "\n",
    "There are certainly more extensive approaches we can still take here, but this is a relatively simple neural network that works well!"
   ]
  }
 ],
 "metadata": {
  "kernelspec": {
   "display_name": "Python 3",
   "language": "python",
   "name": "python3"
  },
  "language_info": {
   "codemirror_mode": {
    "name": "ipython",
    "version": 3
   },
   "file_extension": ".py",
   "mimetype": "text/x-python",
   "name": "python",
   "nbconvert_exporter": "python",
   "pygments_lexer": "ipython3",
   "version": "3.8.8"
  }
 },
 "nbformat": 4,
 "nbformat_minor": 5
}
